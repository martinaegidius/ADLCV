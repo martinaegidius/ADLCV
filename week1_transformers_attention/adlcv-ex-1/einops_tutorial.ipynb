{
 "cells": [
  {
   "cell_type": "code",
   "execution_count": 3,
   "metadata": {},
   "outputs": [
    {
     "name": "stdout",
     "output_type": "stream",
     "text": [
      "Defaulting to user installation because normal site-packages is not writeable\n",
      "Collecting einops\n",
      "  Downloading einops-0.7.0-py3-none-any.whl.metadata (13 kB)\n",
      "Collecting seaborn\n",
      "  Downloading seaborn-0.13.2-py3-none-any.whl.metadata (5.4 kB)\n",
      "Requirement already satisfied: tqdm in /var/data/python/lib/python3.11/site-packages (4.66.1)\n",
      "Requirement already satisfied: numpy!=1.24.0,>=1.20 in /var/data/python/lib/python3.11/site-packages (from seaborn) (1.26.3)\n",
      "Collecting pandas>=1.2 (from seaborn)\n",
      "  Downloading pandas-2.2.0-cp311-cp311-manylinux_2_17_x86_64.manylinux2014_x86_64.whl.metadata (19 kB)\n",
      "Requirement already satisfied: matplotlib!=3.6.1,>=3.4 in /var/data/python/lib/python3.11/site-packages (from seaborn) (3.8.2)\n",
      "Requirement already satisfied: contourpy>=1.0.1 in /var/data/python/lib/python3.11/site-packages (from matplotlib!=3.6.1,>=3.4->seaborn) (1.2.0)\n",
      "Requirement already satisfied: cycler>=0.10 in /var/data/python/lib/python3.11/site-packages (from matplotlib!=3.6.1,>=3.4->seaborn) (0.12.1)\n",
      "Requirement already satisfied: fonttools>=4.22.0 in /var/data/python/lib/python3.11/site-packages (from matplotlib!=3.6.1,>=3.4->seaborn) (4.47.2)\n",
      "Requirement already satisfied: kiwisolver>=1.3.1 in /var/data/python/lib/python3.11/site-packages (from matplotlib!=3.6.1,>=3.4->seaborn) (1.4.5)\n",
      "Requirement already satisfied: packaging>=20.0 in /var/data/python/lib/python3.11/site-packages (from matplotlib!=3.6.1,>=3.4->seaborn) (23.2)\n",
      "Requirement already satisfied: pillow>=8 in /var/data/python/lib/python3.11/site-packages (from matplotlib!=3.6.1,>=3.4->seaborn) (10.2.0)\n",
      "Requirement already satisfied: pyparsing>=2.3.1 in /var/data/python/lib/python3.11/site-packages (from matplotlib!=3.6.1,>=3.4->seaborn) (3.1.1)\n",
      "Requirement already satisfied: python-dateutil>=2.7 in /var/data/python/lib/python3.11/site-packages (from matplotlib!=3.6.1,>=3.4->seaborn) (2.8.2)\n",
      "Collecting pytz>=2020.1 (from pandas>=1.2->seaborn)\n",
      "  Downloading pytz-2024.1-py2.py3-none-any.whl.metadata (22 kB)\n",
      "Collecting tzdata>=2022.7 (from pandas>=1.2->seaborn)\n",
      "  Downloading tzdata-2023.4-py2.py3-none-any.whl.metadata (1.4 kB)\n",
      "Requirement already satisfied: six>=1.5 in /usr/lib/python3.11/site-packages (from python-dateutil>=2.7->matplotlib!=3.6.1,>=3.4->seaborn) (1.16.0)\n",
      "Downloading einops-0.7.0-py3-none-any.whl (44 kB)\n",
      "\u001b[2K   \u001b[90m━━━━━━━━━━━━━━━━━━━━━━━━━━━━━━━━━━━━━━━━\u001b[0m \u001b[32m44.6/44.6 kB\u001b[0m \u001b[31m6.0 MB/s\u001b[0m eta \u001b[36m0:00:00\u001b[0m\n",
      "\u001b[?25hDownloading seaborn-0.13.2-py3-none-any.whl (294 kB)\n",
      "\u001b[2K   \u001b[90m━━━━━━━━━━━━━━━━━━━━━━━━━━━━━━━━━━━━━━━━\u001b[0m \u001b[32m294.9/294.9 kB\u001b[0m \u001b[31m14.8 MB/s\u001b[0m eta \u001b[36m0:00:00\u001b[0m\n",
      "\u001b[?25hDownloading pandas-2.2.0-cp311-cp311-manylinux_2_17_x86_64.manylinux2014_x86_64.whl (13.0 MB)\n",
      "\u001b[2K   \u001b[90m━━━━━━━━━━━━━━━━━━━━━━━━━━━━━━━━━━━━━━━━\u001b[0m \u001b[32m13.0/13.0 MB\u001b[0m \u001b[31m15.1 MB/s\u001b[0m eta \u001b[36m0:00:00\u001b[0m00:01\u001b[0m00:01\u001b[0m\n",
      "\u001b[?25hDownloading pytz-2024.1-py2.py3-none-any.whl (505 kB)\n",
      "\u001b[2K   \u001b[90m━━━━━━━━━━━━━━━━━━━━━━━━━━━━━━━━━━━━━━━━\u001b[0m \u001b[32m505.5/505.5 kB\u001b[0m \u001b[31m15.3 MB/s\u001b[0m eta \u001b[36m0:00:00\u001b[0m\n",
      "\u001b[?25hDownloading tzdata-2023.4-py2.py3-none-any.whl (346 kB)\n",
      "\u001b[2K   \u001b[90m━━━━━━━━━━━━━━━━━━━━━━━━━━━━━━━━━━━━━━━━\u001b[0m \u001b[32m346.6/346.6 kB\u001b[0m \u001b[31m12.4 MB/s\u001b[0m eta \u001b[36m0:00:00\u001b[0m\n",
      "\u001b[?25hInstalling collected packages: pytz, tzdata, einops, pandas, seaborn\n",
      "Successfully installed einops-0.7.0 pandas-2.2.0 pytz-2024.1 seaborn-0.13.2 tzdata-2023.4\n"
     ]
    }
   ],
   "source": [
    "#!pip install matplotlib einops seaborn tqdm torchtext==0.6.0\n",
    "#!pip install --no-cache-dir torchtext==0.6.0\n",
    "#!TMPDIR=/home/max/Documents/s194119/S2024/ADLCV/week1_transformers_attention/tmp_install_dir/ pip3 --cache-dir /home/max/Documents/s194119/S2024/ADLCV/week1_transformers_attention/tmp_install_dir/ install torchtext==0.6.0 einops seaborn tqdm\n",
    "!TMPDIR=/home/max/Documents/s194119/S2024/ADLCV/week1_transformers_attention/tmp_install_dir/ pip3 --cache-dir /home/max/Documents/s194119/S2024/ADLCV/week1_transformers_attention/tmp_install_dir/ install einops seaborn tqdm"
   ]
  },
  {
   "cell_type": "code",
   "execution_count": 4,
   "metadata": {},
   "outputs": [],
   "source": [
    "import torch\n",
    "from einops import repeat, rearrange\n",
    "\n",
    "batch_size, heigh, width = 32, 224,224\n",
    "a = torch.rand((batch_size, heigh, width))\n"
   ]
  },
  {
   "cell_type": "code",
   "execution_count": 15,
   "metadata": {},
   "outputs": [
    {
     "name": "stdout",
     "output_type": "stream",
     "text": [
      "tensor([[ 1.,  0.,  7.],\n",
      "        [ 2.,  3., -1.]])\n",
      "tensor([[[ 1.,  1.,  1.,  1.],\n",
      "         [ 0.,  0.,  0.,  0.],\n",
      "         [ 7.,  7.,  7.,  7.]],\n",
      "\n",
      "        [[ 2.,  2.,  2.,  2.],\n",
      "         [ 3.,  3.,  3.,  3.],\n",
      "         [-1., -1., -1., -1.]]])\n",
      "torch.Size([2, 3, 4])\n",
      "tensor([[[ 1.,  0.,  7.],\n",
      "         [ 1.,  0.,  7.],\n",
      "         [ 1.,  0.,  7.],\n",
      "         [ 1.,  0.,  7.]],\n",
      "\n",
      "        [[ 2.,  3., -1.],\n",
      "         [ 2.,  3., -1.],\n",
      "         [ 2.,  3., -1.],\n",
      "         [ 2.,  3., -1.]]])\n",
      "torch.Size([2, 4, 3])\n"
     ]
    }
   ],
   "source": [
    "b = torch.Tensor([[1,0,7],[2,3,-1]])\n",
    "print(b)\n",
    "b1 = repeat(b, 'h w -> h w c',c=4)\n",
    "print(b1)\n",
    "print(b1.shape)\n",
    "\n",
    "b1 = repeat(b, 'h w -> h c w',c=4)\n",
    "print(b1)\n",
    "print(b1.shape)"
   ]
  },
  {
   "cell_type": "code",
   "execution_count": 5,
   "metadata": {},
   "outputs": [
    {
     "name": "stdout",
     "output_type": "stream",
     "text": [
      "Increase channels to 3 torch.Size([32, 3, 224, 224])\n"
     ]
    }
   ],
   "source": [
    "# Increase the channels to 3\n",
    "a1 = repeat(a, 'b h w -> b c h w', c=3)\n",
    "print('Increase channels to 3',a1.shape)"
   ]
  },
  {
   "cell_type": "code",
   "execution_count": 18,
   "metadata": {},
   "outputs": [
    {
     "name": "stdout",
     "output_type": "stream",
     "text": [
      "Swap batch with the channels torch.Size([3, 32, 224, 224])\n"
     ]
    },
    {
     "data": {
      "text/plain": [
       "True"
      ]
     },
     "execution_count": 18,
     "metadata": {},
     "output_type": "execute_result"
    }
   ],
   "source": [
    "# Swap batch with the channels\n",
    "a2 = rearrange(a1, 'b c h w -> c b h w') #just like torch.permute\n",
    "print('Swap batch with the channels', a2.shape)\n",
    "\n",
    "a2_torch = torch.permute(a1,(1,0,2,3))\n",
    "\n",
    "torch.equal(a2,a2_torch)"
   ]
  },
  {
   "cell_type": "code",
   "execution_count": 23,
   "metadata": {},
   "outputs": [
    {
     "name": "stdout",
     "output_type": "stream",
     "text": [
      "Merge batch with channels torch.Size([96, 224, 224])\n"
     ]
    },
    {
     "data": {
      "text/plain": [
       "True"
      ]
     },
     "execution_count": 23,
     "metadata": {},
     "output_type": "execute_result"
    }
   ],
   "source": [
    "# Merge batch with channels\n",
    "a3 = rearrange(a1, 'b c h w -> (b c) h w') #same as torch.reshape\n",
    "print('Merge batch with channels', a3.shape)\n",
    "\n",
    "a3_torch = a1.reshape(a1.shape[0]*a1.shape[1],a1.shape[2],a1.shape[-1])\n",
    "\n",
    "torch.equal(a3,a3_torch)\n"
   ]
  },
  {
   "cell_type": "code",
   "execution_count": 27,
   "metadata": {},
   "outputs": [
    {
     "name": "stdout",
     "output_type": "stream",
     "text": [
      "Split the batch to two dimensions torch.Size([16, 2, 3, 224, 224])\n"
     ]
    },
    {
     "data": {
      "text/plain": [
       "True"
      ]
     },
     "execution_count": 27,
     "metadata": {},
     "output_type": "execute_result"
    }
   ],
   "source": [
    "# Split the batch to two dimensions\n",
    "a4 = rearrange(a1, '(d1 d2) c h w -> d1 d2 c h w', d1=16,d2=2)\n",
    "print('Split the batch to two dimensions', a4.shape)\n",
    "\n",
    "#equivalent to torch syntax\n",
    "a4_torch = torch.unsqueeze(a1,0)\n",
    "a4_torch = a4_torch.reshape(16,2,3,224,224)\n",
    "\n",
    "torch.equal(a4_torch,a4)"
   ]
  }
 ],
 "metadata": {
  "kernelspec": {
   "display_name": "Python 3",
   "language": "python",
   "name": "python3"
  },
  "language_info": {
   "codemirror_mode": {
    "name": "ipython",
    "version": 3
   },
   "file_extension": ".py",
   "mimetype": "text/x-python",
   "name": "python",
   "nbconvert_exporter": "python",
   "pygments_lexer": "ipython3",
   "version": "3.11.7"
  }
 },
 "nbformat": 4,
 "nbformat_minor": 2
}
